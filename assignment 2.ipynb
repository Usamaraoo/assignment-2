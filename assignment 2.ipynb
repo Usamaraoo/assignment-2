{
 "cells": [
  {
   "cell_type": "markdown",
   "metadata": {},
   "source": [
    "# Assignment 1"
   ]
  },
  {
   "cell_type": "code",
   "execution_count": 3,
   "metadata": {},
   "outputs": [],
   "source": [
    "student_list=[]\n",
    "student_dic = {}"
   ]
  },
  {
   "cell_type": "code",
   "execution_count": 7,
   "metadata": {},
   "outputs": [
    {
     "name": "stdout",
     "output_type": "stream",
     "text": [
      "Enter how many student you want to enter3\n",
      "Enter Your name :usama\n",
      "Enter your Age :23\n",
      "Enter your Job :AI\n",
      "Enter your Skill :AI\n",
      "Enter your Digree :BSCS\n",
      "Enter your Salary :80000\n",
      "Enter Your name :Hamzza\n",
      "Enter your Age :43\n",
      "Enter your Job :IOT\n",
      "Enter your Skill :BSCS\n",
      "Enter your Digree :IOT\n",
      "Enter your Salary :82300\n",
      "Enter Your name :Zie\n",
      "Enter your Age :12\n",
      "Enter your Job :IT\n",
      "Enter your Skill :ET\n",
      "Enter your Digree :BSCS\n",
      "Enter your Salary :23\n"
     ]
    },
    {
     "data": {
      "text/plain": [
       "[{'name': 'Zie',\n",
       "  'age': '12',\n",
       "  'work': 'IT',\n",
       "  'skill': 'ET',\n",
       "  'digree': 'BSCS',\n",
       "  'salary': '23'},\n",
       " {'name': 'Zie',\n",
       "  'age': '12',\n",
       "  'work': 'IT',\n",
       "  'skill': 'ET',\n",
       "  'digree': 'BSCS',\n",
       "  'salary': '23'},\n",
       " {'name': 'Zie',\n",
       "  'age': '12',\n",
       "  'work': 'IT',\n",
       "  'skill': 'ET',\n",
       "  'digree': 'BSCS',\n",
       "  'salary': '23'}]"
      ]
     },
     "execution_count": 7,
     "metadata": {},
     "output_type": "execute_result"
    }
   ],
   "source": [
    "student_range=int(input('Enter how many student you want to enter'))\n",
    "\n",
    "for _ in range(student_range):\n",
    "    student_dic['name']=input('Enter Your name :')\n",
    "    student_dic['age'] = input('Enter your Age :')\n",
    "    student_dic['work'] = input( 'Enter your Job :')\n",
    "    student_dic['skill'] = input( 'Enter your Skill :')\n",
    "    student_dic['digree'] = input( 'Enter your Digree :')\n",
    "    student_dic['salary'] = input( 'Enter your Salary :')\n",
    "    student_list.append(student_dic)\n",
    "\n",
    "student_list\n"
   ]
  },
  {
   "cell_type": "code",
   "execution_count": null,
   "metadata": {},
   "outputs": [],
   "source": []
  },
  {
   "cell_type": "markdown",
   "metadata": {},
   "source": [
    "# Assignment 2"
   ]
  },
  {
   "cell_type": "markdown",
   "metadata": {},
   "source": [
    "Take input from user and print table in that range. Suppose user input 5 and 10. Then print table of 5,6,7,8,9,10\n",
    "\n",
    "And ouput should be as follows"
   ]
  },
  {
   "cell_type": "code",
   "execution_count": 8,
   "metadata": {},
   "outputs": [
    {
     "name": "stdout",
     "output_type": "stream",
     "text": [
      "Enter the no from where you want to start table2\n",
      "Enter the no from where you want to end table5\n",
      "2 * 0 = 0 \n",
      "2 * 1 = 2 \n",
      "2 * 2 = 4 \n",
      "2 * 3 = 6 \n",
      "2 * 4 = 8 \n",
      "2 * 5 = 10 \n",
      "2 * 6 = 12 \n",
      "2 * 7 = 14 \n",
      "2 * 8 = 16 \n",
      "2 * 9 = 18 \n",
      "2 * 10 = 20 \n",
      "\n",
      "\n",
      "3 * 0 = 0 \n",
      "3 * 1 = 3 \n",
      "3 * 2 = 6 \n",
      "3 * 3 = 9 \n",
      "3 * 4 = 12 \n",
      "3 * 5 = 15 \n",
      "3 * 6 = 18 \n",
      "3 * 7 = 21 \n",
      "3 * 8 = 24 \n",
      "3 * 9 = 27 \n",
      "3 * 10 = 30 \n",
      "\n",
      "\n",
      "4 * 0 = 0 \n",
      "4 * 1 = 4 \n",
      "4 * 2 = 8 \n",
      "4 * 3 = 12 \n",
      "4 * 4 = 16 \n",
      "4 * 5 = 20 \n",
      "4 * 6 = 24 \n",
      "4 * 7 = 28 \n",
      "4 * 8 = 32 \n",
      "4 * 9 = 36 \n",
      "4 * 10 = 40 \n",
      "\n",
      "\n",
      "5 * 0 = 0 \n",
      "5 * 1 = 5 \n",
      "5 * 2 = 10 \n",
      "5 * 3 = 15 \n",
      "5 * 4 = 20 \n",
      "5 * 5 = 25 \n",
      "5 * 6 = 30 \n",
      "5 * 7 = 35 \n",
      "5 * 8 = 40 \n",
      "5 * 9 = 45 \n",
      "5 * 10 = 50 \n",
      "\n",
      "\n"
     ]
    }
   ],
   "source": [
    "table_range_start = int (input(\"Enter the no from where you want to start table\"))\n",
    "table_range_end = int (input(\"Enter the no from where you want to end table\"))\n",
    "\n",
    "for i in range(table_range_start,table_range_end+1):\n",
    "    for j in range(11):\n",
    "        print (f\"{i} * {j} = {i*j} \" )\n",
    "    print(\"\\n\")\n",
    "        \n",
    "\n"
   ]
  },
  {
   "cell_type": "code",
   "execution_count": null,
   "metadata": {},
   "outputs": [],
   "source": [
    "#### table_range_start = int (input(\"Enter the no from where you want to start table\"))\n",
    "table_range_start = int (input(\"Enter the no from where you want to end table\"))\n",
    "table_range_end = int (input(\"Enter the no from where you want to end table\"))\n",
    "\n",
    "i=0\n",
    "for i in range(11):\n",
    "    \n",
    "    for j in range(table_range_start,table_range_end+1):\n",
    "        print (f\"{j} * {i} = {i*j}\",'\\t',end='')\n",
    "    print('')\n",
    "    \n",
    "    \n",
    "    \n",
    "    \n",
    "   \n",
    "    \n"
   ]
  },
  {
   "cell_type": "code",
   "execution_count": 32,
   "metadata": {},
   "outputs": [
    {
     "name": "stdout",
     "output_type": "stream",
     "text": [
      "fssfffg\n"
     ]
    }
   ],
   "source": [
    "print('fs',end='')\n",
    "print('sfffg')"
   ]
  },
  {
   "cell_type": "code",
   "execution_count": null,
   "metadata": {},
   "outputs": [],
   "source": []
  }
 ],
 "metadata": {
  "kernelspec": {
   "display_name": "Python 3",
   "language": "python",
   "name": "python3"
  },
  "language_info": {
   "codemirror_mode": {
    "name": "ipython",
    "version": 3
   },
   "file_extension": ".py",
   "mimetype": "text/x-python",
   "name": "python",
   "nbconvert_exporter": "python",
   "pygments_lexer": "ipython3",
   "version": "3.7.4"
  }
 },
 "nbformat": 4,
 "nbformat_minor": 2
}
